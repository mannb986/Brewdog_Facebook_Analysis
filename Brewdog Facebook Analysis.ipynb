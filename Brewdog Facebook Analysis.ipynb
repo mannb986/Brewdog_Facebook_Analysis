{
 "cells": [
  {
   "cell_type": "markdown",
   "metadata": {},
   "source": [
    "# Brewdog Facebook Analysis"
   ]
  },
  {
   "cell_type": "markdown",
   "metadata": {},
   "source": [
    "## Retrieving Data From Brewdog's Facebook Page\n",
    "\n",
    "The below code will retrieve the data from Brewdog's facebook page. Facebook's API page was used. I have removed my token ID. "
   ]
  },
  {
   "cell_type": "code",
   "execution_count": 1,
   "metadata": {},
   "outputs": [
    {
     "name": "stdout",
     "output_type": "stream",
     "text": [
      "done\n"
     ]
    }
   ],
   "source": [
    "import requests \n",
    "import time\n",
    "import random\n",
    "    \n",
    "token = \"\"\n",
    "\n",
    "def req_facebook(req):\n",
    "    r = requests.get(\"https://graph.facebook.com/v2.10/\" + req , {'access_token' : token})\n",
    "\n",
    "    return r\n",
    "    \n",
    "\n",
    "req=\"BrewDogOfficial?fields=posts{comments.limit(0).summary(true),likes.limit(0).summary(true),created_time,message}\"\n",
    "\n",
    "results=req_facebook(req).json()\n",
    "\n",
    "\n",
    "\n",
    "data=[]\n",
    "\n",
    "results=results['posts']\n",
    "\n",
    "i=0\n",
    "\n",
    "while True:\n",
    "\n",
    "    try:\n",
    "        time.sleep(random.randint(2,4))\n",
    "        data.extend(results['data'])\n",
    "        r=requests.get(results['paging']['next'])\n",
    "        results= r.json()    \n",
    "        i += 1\n",
    "\n",
    "\n",
    "    except:\n",
    "        print(\"done\")\n",
    "        break "
   ]
  },
  {
   "cell_type": "code",
   "execution_count": 111,
   "metadata": {},
   "outputs": [
    {
     "data": {
      "text/plain": [
       "{'comments': {'data': [],\n",
       "  'summary': {'can_comment': True, 'order': 'ranked', 'total_count': 85}},\n",
       " 'created_time': '2017-07-29T09:30:00+0000',\n",
       " 'id': '21251598643_10157023200443644',\n",
       " 'likes': {'data': [],\n",
       "  'summary': {'can_like': True, 'has_liked': False, 'total_count': 877}},\n",
       " 'message': 'When you see a fresh pint of PunkIPA being poured...'}"
      ]
     },
     "execution_count": 111,
     "metadata": {},
     "output_type": "execute_result"
    }
   ],
   "source": [
    "data[0]"
   ]
  },
  {
   "cell_type": "code",
   "execution_count": 132,
   "metadata": {
    "collapsed": true
   },
   "outputs": [],
   "source": [
    "import pandas as pd \n",
    "import string \n",
    "from operator import itemgetter\n",
    "import numpy as np"
   ]
  },
  {
   "cell_type": "markdown",
   "metadata": {},
   "source": [
    "## Normalising Data\n",
    "\n",
    "Converting data into a pandas dataframe."
   ]
  },
  {
   "cell_type": "code",
   "execution_count": 112,
   "metadata": {
    "collapsed": true
   },
   "outputs": [],
   "source": [
    "df2 = pd.io.json.json_normalize(data=data)"
   ]
  },
  {
   "cell_type": "code",
   "execution_count": 113,
   "metadata": {},
   "outputs": [
    {
     "data": {
      "text/html": [
       "<div>\n",
       "<style>\n",
       "    .dataframe thead tr:only-child th {\n",
       "        text-align: right;\n",
       "    }\n",
       "\n",
       "    .dataframe thead th {\n",
       "        text-align: left;\n",
       "    }\n",
       "\n",
       "    .dataframe tbody tr th {\n",
       "        vertical-align: top;\n",
       "    }\n",
       "</style>\n",
       "<table border=\"1\" class=\"dataframe\">\n",
       "  <thead>\n",
       "    <tr style=\"text-align: right;\">\n",
       "      <th></th>\n",
       "      <th>comments.data</th>\n",
       "      <th>comments.summary.can_comment</th>\n",
       "      <th>comments.summary.order</th>\n",
       "      <th>comments.summary.total_count</th>\n",
       "      <th>created_time</th>\n",
       "      <th>id</th>\n",
       "      <th>likes.data</th>\n",
       "      <th>likes.summary.can_like</th>\n",
       "      <th>likes.summary.has_liked</th>\n",
       "      <th>likes.summary.total_count</th>\n",
       "      <th>message</th>\n",
       "    </tr>\n",
       "  </thead>\n",
       "  <tbody>\n",
       "    <tr>\n",
       "      <th>0</th>\n",
       "      <td>[]</td>\n",
       "      <td>True</td>\n",
       "      <td>ranked</td>\n",
       "      <td>85</td>\n",
       "      <td>2017-07-29T09:30:00+0000</td>\n",
       "      <td>21251598643_10157023200443644</td>\n",
       "      <td>[]</td>\n",
       "      <td>True</td>\n",
       "      <td>False</td>\n",
       "      <td>877</td>\n",
       "      <td>When you see a fresh pint of PunkIPA being pou...</td>\n",
       "    </tr>\n",
       "    <tr>\n",
       "      <th>1</th>\n",
       "      <td>[]</td>\n",
       "      <td>True</td>\n",
       "      <td>ranked</td>\n",
       "      <td>42</td>\n",
       "      <td>2017-07-28T16:55:01+0000</td>\n",
       "      <td>21251598643_10157026990843644</td>\n",
       "      <td>[]</td>\n",
       "      <td>True</td>\n",
       "      <td>False</td>\n",
       "      <td>195</td>\n",
       "      <td>Rolling towards the weekend...\\n\\nWhat's first...</td>\n",
       "    </tr>\n",
       "    <tr>\n",
       "      <th>2</th>\n",
       "      <td>[]</td>\n",
       "      <td>True</td>\n",
       "      <td>ranked</td>\n",
       "      <td>3</td>\n",
       "      <td>2017-07-28T15:12:39+0000</td>\n",
       "      <td>21251598643_10157026772808644</td>\n",
       "      <td>[]</td>\n",
       "      <td>True</td>\n",
       "      <td>False</td>\n",
       "      <td>25</td>\n",
       "      <td>“*Drumroll please!*\\n\\nAnd the winner is… Jenn...</td>\n",
       "    </tr>\n",
       "    <tr>\n",
       "      <th>3</th>\n",
       "      <td>[]</td>\n",
       "      <td>True</td>\n",
       "      <td>ranked</td>\n",
       "      <td>21</td>\n",
       "      <td>2017-07-28T10:24:41+0000</td>\n",
       "      <td>21251598643_10157026143968644</td>\n",
       "      <td>[]</td>\n",
       "      <td>True</td>\n",
       "      <td>False</td>\n",
       "      <td>296</td>\n",
       "      <td>Slot Machine ✔️\\n\\nHomicidal Puppet Help Desk ...</td>\n",
       "    </tr>\n",
       "    <tr>\n",
       "      <th>4</th>\n",
       "      <td>[]</td>\n",
       "      <td>True</td>\n",
       "      <td>ranked</td>\n",
       "      <td>107</td>\n",
       "      <td>2017-07-27T15:15:00+0000</td>\n",
       "      <td>21251598643_10157023539678644</td>\n",
       "      <td>[]</td>\n",
       "      <td>True</td>\n",
       "      <td>False</td>\n",
       "      <td>807</td>\n",
       "      <td>IT JUST GOT REAL...24 hours left to invest in ...</td>\n",
       "    </tr>\n",
       "  </tbody>\n",
       "</table>\n",
       "</div>"
      ],
      "text/plain": [
       "  comments.data  comments.summary.can_comment comments.summary.order  \\\n",
       "0            []                          True                 ranked   \n",
       "1            []                          True                 ranked   \n",
       "2            []                          True                 ranked   \n",
       "3            []                          True                 ranked   \n",
       "4            []                          True                 ranked   \n",
       "\n",
       "   comments.summary.total_count              created_time  \\\n",
       "0                            85  2017-07-29T09:30:00+0000   \n",
       "1                            42  2017-07-28T16:55:01+0000   \n",
       "2                             3  2017-07-28T15:12:39+0000   \n",
       "3                            21  2017-07-28T10:24:41+0000   \n",
       "4                           107  2017-07-27T15:15:00+0000   \n",
       "\n",
       "                              id likes.data  likes.summary.can_like  \\\n",
       "0  21251598643_10157023200443644         []                    True   \n",
       "1  21251598643_10157026990843644         []                    True   \n",
       "2  21251598643_10157026772808644         []                    True   \n",
       "3  21251598643_10157026143968644         []                    True   \n",
       "4  21251598643_10157023539678644         []                    True   \n",
       "\n",
       "   likes.summary.has_liked  likes.summary.total_count  \\\n",
       "0                    False                        877   \n",
       "1                    False                        195   \n",
       "2                    False                         25   \n",
       "3                    False                        296   \n",
       "4                    False                        807   \n",
       "\n",
       "                                             message  \n",
       "0  When you see a fresh pint of PunkIPA being pou...  \n",
       "1  Rolling towards the weekend...\\n\\nWhat's first...  \n",
       "2  “*Drumroll please!*\\n\\nAnd the winner is… Jenn...  \n",
       "3  Slot Machine ✔️\\n\\nHomicidal Puppet Help Desk ...  \n",
       "4  IT JUST GOT REAL...24 hours left to invest in ...  "
      ]
     },
     "execution_count": 113,
     "metadata": {},
     "output_type": "execute_result"
    }
   ],
   "source": [
    "df2.head(5)"
   ]
  },
  {
   "cell_type": "code",
   "execution_count": 9,
   "metadata": {},
   "outputs": [
    {
     "data": {
      "text/plain": [
       "'comments.data'"
      ]
     },
     "execution_count": 9,
     "metadata": {},
     "output_type": "execute_result"
    }
   ],
   "source": [
    "df2.columns[0]"
   ]
  },
  {
   "cell_type": "markdown",
   "metadata": {},
   "source": [
    "## Tidying Columns & Cleaning Null Values"
   ]
  },
  {
   "cell_type": "code",
   "execution_count": 114,
   "metadata": {
    "collapsed": true
   },
   "outputs": [],
   "source": [
    "df2.drop( df2.columns[[0,1,2,6,7,8]] , 1 , inplace=True)"
   ]
  },
  {
   "cell_type": "code",
   "execution_count": 115,
   "metadata": {
    "collapsed": true
   },
   "outputs": [],
   "source": [
    "df2.rename( columns= { \"comments.summary.total_count\" : \"total_comments\"} , inplace=True)\n",
    "df2.rename( columns= { \"likes.summary.total_count\" : \"total_likes\"} , inplace=True)"
   ]
  },
  {
   "cell_type": "code",
   "execution_count": 116,
   "metadata": {
    "collapsed": true
   },
   "outputs": [],
   "source": [
    "df2.fillna(\"\",inplace=True)"
   ]
  },
  {
   "cell_type": "markdown",
   "metadata": {},
   "source": [
    "## Most Commented Posts"
   ]
  },
  {
   "cell_type": "code",
   "execution_count": 117,
   "metadata": {
    "collapsed": true
   },
   "outputs": [],
   "source": [
    "brewdog_df = df2"
   ]
  },
  {
   "cell_type": "code",
   "execution_count": 348,
   "metadata": {
    "scrolled": true
   },
   "outputs": [
    {
     "data": {
      "text/html": [
       "<div>\n",
       "<style>\n",
       "    .dataframe thead tr:only-child th {\n",
       "        text-align: right;\n",
       "    }\n",
       "\n",
       "    .dataframe thead th {\n",
       "        text-align: left;\n",
       "    }\n",
       "\n",
       "    .dataframe tbody tr th {\n",
       "        vertical-align: top;\n",
       "    }\n",
       "</style>\n",
       "<table border=\"1\" class=\"dataframe\">\n",
       "  <thead>\n",
       "    <tr style=\"text-align: right;\">\n",
       "      <th></th>\n",
       "      <th>total_comments</th>\n",
       "      <th>created_time</th>\n",
       "      <th>id</th>\n",
       "      <th>total_likes</th>\n",
       "      <th>message</th>\n",
       "    </tr>\n",
       "  </thead>\n",
       "  <tbody>\n",
       "    <tr>\n",
       "      <th>0</th>\n",
       "      <td>85</td>\n",
       "      <td>2017-07-29 09:30:00</td>\n",
       "      <td>21251598643_10157023200443644</td>\n",
       "      <td>877</td>\n",
       "      <td>When you see a fresh pint of PunkIPA being pou...</td>\n",
       "    </tr>\n",
       "    <tr>\n",
       "      <th>1</th>\n",
       "      <td>42</td>\n",
       "      <td>2017-07-28 16:55:01</td>\n",
       "      <td>21251598643_10157026990843644</td>\n",
       "      <td>195</td>\n",
       "      <td>Rolling towards the weekend...\\n\\nWhat's first...</td>\n",
       "    </tr>\n",
       "    <tr>\n",
       "      <th>2</th>\n",
       "      <td>3</td>\n",
       "      <td>2017-07-28 15:12:39</td>\n",
       "      <td>21251598643_10157026772808644</td>\n",
       "      <td>25</td>\n",
       "      <td>“*Drumroll please!*\\n\\nAnd the winner is… Jenn...</td>\n",
       "    </tr>\n",
       "    <tr>\n",
       "      <th>3</th>\n",
       "      <td>21</td>\n",
       "      <td>2017-07-28 10:24:41</td>\n",
       "      <td>21251598643_10157026143968644</td>\n",
       "      <td>296</td>\n",
       "      <td>Slot Machine ✔️\\n\\nHomicidal Puppet Help Desk ...</td>\n",
       "    </tr>\n",
       "    <tr>\n",
       "      <th>4</th>\n",
       "      <td>107</td>\n",
       "      <td>2017-07-27 15:15:00</td>\n",
       "      <td>21251598643_10157023539678644</td>\n",
       "      <td>807</td>\n",
       "      <td>IT JUST GOT REAL...24 hours left to invest in ...</td>\n",
       "    </tr>\n",
       "    <tr>\n",
       "      <th>5</th>\n",
       "      <td>0</td>\n",
       "      <td>2017-07-27 10:23:15</td>\n",
       "      <td>21251598643_10157022954943644</td>\n",
       "      <td>127</td>\n",
       "      <td>Ever wondered what it’s like to live the dream...</td>\n",
       "    </tr>\n",
       "    <tr>\n",
       "      <th>6</th>\n",
       "      <td>367</td>\n",
       "      <td>2017-07-26 15:09:43</td>\n",
       "      <td>21251598643_10157020288548644</td>\n",
       "      <td>307</td>\n",
       "      <td>Win tickets to London Craft Beer Festival!!\\n\\...</td>\n",
       "    </tr>\n",
       "    <tr>\n",
       "      <th>7</th>\n",
       "      <td>46</td>\n",
       "      <td>2017-07-26 10:12:37</td>\n",
       "      <td>21251598643_10157019494158644</td>\n",
       "      <td>456</td>\n",
       "      <td>Guess what's back in the online shop....HAZY F...</td>\n",
       "    </tr>\n",
       "    <tr>\n",
       "      <th>8</th>\n",
       "      <td>8</td>\n",
       "      <td>2017-07-25 16:25:17</td>\n",
       "      <td>21251598643_10157016822788644</td>\n",
       "      <td>123</td>\n",
       "      <td>LoneWolf Spirits need your help to do for craf...</td>\n",
       "    </tr>\n",
       "    <tr>\n",
       "      <th>9</th>\n",
       "      <td>693</td>\n",
       "      <td>2017-07-25 10:36:02</td>\n",
       "      <td>21251598643_10157015278103644</td>\n",
       "      <td>3229</td>\n",
       "      <td>Australia, we're coming for you! 🇦🇺️🍻\\n\\nBuild...</td>\n",
       "    </tr>\n",
       "  </tbody>\n",
       "</table>\n",
       "</div>"
      ],
      "text/plain": [
       "   total_comments        created_time                             id  \\\n",
       "0              85 2017-07-29 09:30:00  21251598643_10157023200443644   \n",
       "1              42 2017-07-28 16:55:01  21251598643_10157026990843644   \n",
       "2               3 2017-07-28 15:12:39  21251598643_10157026772808644   \n",
       "3              21 2017-07-28 10:24:41  21251598643_10157026143968644   \n",
       "4             107 2017-07-27 15:15:00  21251598643_10157023539678644   \n",
       "5               0 2017-07-27 10:23:15  21251598643_10157022954943644   \n",
       "6             367 2017-07-26 15:09:43  21251598643_10157020288548644   \n",
       "7              46 2017-07-26 10:12:37  21251598643_10157019494158644   \n",
       "8               8 2017-07-25 16:25:17  21251598643_10157016822788644   \n",
       "9             693 2017-07-25 10:36:02  21251598643_10157015278103644   \n",
       "\n",
       "   total_likes                                            message  \n",
       "0          877  When you see a fresh pint of PunkIPA being pou...  \n",
       "1          195  Rolling towards the weekend...\\n\\nWhat's first...  \n",
       "2           25  “*Drumroll please!*\\n\\nAnd the winner is… Jenn...  \n",
       "3          296  Slot Machine ✔️\\n\\nHomicidal Puppet Help Desk ...  \n",
       "4          807  IT JUST GOT REAL...24 hours left to invest in ...  \n",
       "5          127  Ever wondered what it’s like to live the dream...  \n",
       "6          307  Win tickets to London Craft Beer Festival!!\\n\\...  \n",
       "7          456  Guess what's back in the online shop....HAZY F...  \n",
       "8          123  LoneWolf Spirits need your help to do for craf...  \n",
       "9         3229  Australia, we're coming for you! 🇦🇺️🍻\\n\\nBuild...  "
      ]
     },
     "execution_count": 348,
     "metadata": {},
     "output_type": "execute_result"
    }
   ],
   "source": [
    "brewdog_df.head(10)"
   ]
  },
  {
   "cell_type": "code",
   "execution_count": 118,
   "metadata": {},
   "outputs": [
    {
     "data": {
      "text/plain": [
       "count    6409.000000\n",
       "mean       18.241691\n",
       "std        42.215902\n",
       "min         0.000000\n",
       "25%         2.000000\n",
       "50%         7.000000\n",
       "75%        17.000000\n",
       "max       956.000000\n",
       "Name: total_comments, dtype: float64"
      ]
     },
     "execution_count": 118,
     "metadata": {},
     "output_type": "execute_result"
    }
   ],
   "source": [
    "brewdog_df['total_comments'].describe()"
   ]
  },
  {
   "cell_type": "code",
   "execution_count": 119,
   "metadata": {
    "collapsed": true
   },
   "outputs": [],
   "source": [
    "top_comments=brewdog_df.sort_values('total_comments',ascending=False)"
   ]
  },
  {
   "cell_type": "code",
   "execution_count": 120,
   "metadata": {
    "collapsed": true
   },
   "outputs": [],
   "source": [
    "top_comments = top_comments.head(10)"
   ]
  },
  {
   "cell_type": "code",
   "execution_count": 121,
   "metadata": {},
   "outputs": [
    {
     "data": {
      "text/html": [
       "<div>\n",
       "<style>\n",
       "    .dataframe thead tr:only-child th {\n",
       "        text-align: right;\n",
       "    }\n",
       "\n",
       "    .dataframe thead th {\n",
       "        text-align: left;\n",
       "    }\n",
       "\n",
       "    .dataframe tbody tr th {\n",
       "        vertical-align: top;\n",
       "    }\n",
       "</style>\n",
       "<table border=\"1\" class=\"dataframe\">\n",
       "  <thead>\n",
       "    <tr style=\"text-align: right;\">\n",
       "      <th></th>\n",
       "      <th>total_comments</th>\n",
       "      <th>created_time</th>\n",
       "      <th>id</th>\n",
       "      <th>total_likes</th>\n",
       "      <th>message</th>\n",
       "    </tr>\n",
       "  </thead>\n",
       "  <tbody>\n",
       "    <tr>\n",
       "      <th>1431</th>\n",
       "      <td>956</td>\n",
       "      <td>2016-02-25T10:50:29+0000</td>\n",
       "      <td>21251598643_10155537293823644</td>\n",
       "      <td>4750</td>\n",
       "      <td>We promised something awesome today....\\n\\nSo ...</td>\n",
       "    </tr>\n",
       "    <tr>\n",
       "      <th>5123</th>\n",
       "      <td>879</td>\n",
       "      <td>2012-04-17T11:32:31+0000</td>\n",
       "      <td>21251598643_10150710699048644</td>\n",
       "      <td>211</td>\n",
       "      <td>POW! Over 20,000 Likes! We're going to choose ...</td>\n",
       "    </tr>\n",
       "    <tr>\n",
       "      <th>3340</th>\n",
       "      <td>719</td>\n",
       "      <td>2014-06-12T10:27:59+0000</td>\n",
       "      <td>21251598643_10152240546088644</td>\n",
       "      <td>160</td>\n",
       "      <td>Ok people. \\n\\nIf we were to open a BrewDog re...</td>\n",
       "    </tr>\n",
       "    <tr>\n",
       "      <th>9</th>\n",
       "      <td>693</td>\n",
       "      <td>2017-07-25T10:36:02+0000</td>\n",
       "      <td>21251598643_10157015278103644</td>\n",
       "      <td>3229</td>\n",
       "      <td>Australia, we're coming for you! 🇦🇺️🍻\\n\\nBuild...</td>\n",
       "    </tr>\n",
       "    <tr>\n",
       "      <th>943</th>\n",
       "      <td>585</td>\n",
       "      <td>2016-08-22T22:13:47+0000</td>\n",
       "      <td>21251598643_10155969581248644</td>\n",
       "      <td>396</td>\n",
       "      <td>Aberdeen, Berlin, Tokyo, Barcelona... \\n\\nWher...</td>\n",
       "    </tr>\n",
       "    <tr>\n",
       "      <th>3157</th>\n",
       "      <td>562</td>\n",
       "      <td>2014-08-28T08:42:20+0000</td>\n",
       "      <td>21251598643_10152418895568644</td>\n",
       "      <td>252</td>\n",
       "      <td>We're brewing a Pumpkin Ale and it needs a nam...</td>\n",
       "    </tr>\n",
       "    <tr>\n",
       "      <th>423</th>\n",
       "      <td>560</td>\n",
       "      <td>2017-02-13T12:33:43+0000</td>\n",
       "      <td>21251598643_10156493266188644</td>\n",
       "      <td>2437</td>\n",
       "      <td>Dog days.\\n\\nTaking time out for paw-ternity l...</td>\n",
       "    </tr>\n",
       "    <tr>\n",
       "      <th>366</th>\n",
       "      <td>556</td>\n",
       "      <td>2017-03-02T16:47:17+0000</td>\n",
       "      <td>21251598643_10156545520358644</td>\n",
       "      <td>1654</td>\n",
       "      <td>Wanna help us build a craft beer hotel? There ...</td>\n",
       "    </tr>\n",
       "    <tr>\n",
       "      <th>2595</th>\n",
       "      <td>530</td>\n",
       "      <td>2015-03-11T19:51:26+0000</td>\n",
       "      <td>21251598643_10153027231773644</td>\n",
       "      <td>69</td>\n",
       "      <td>Question of the day: What's your favourite cra...</td>\n",
       "    </tr>\n",
       "    <tr>\n",
       "      <th>2536</th>\n",
       "      <td>490</td>\n",
       "      <td>2015-03-31T14:24:31+0000</td>\n",
       "      <td>21251598643_10153432734038644</td>\n",
       "      <td>363</td>\n",
       "      <td>To celebrate the arrival of the new Punk IPA B...</td>\n",
       "    </tr>\n",
       "  </tbody>\n",
       "</table>\n",
       "</div>"
      ],
      "text/plain": [
       "      total_comments              created_time                             id  \\\n",
       "1431             956  2016-02-25T10:50:29+0000  21251598643_10155537293823644   \n",
       "5123             879  2012-04-17T11:32:31+0000  21251598643_10150710699048644   \n",
       "3340             719  2014-06-12T10:27:59+0000  21251598643_10152240546088644   \n",
       "9                693  2017-07-25T10:36:02+0000  21251598643_10157015278103644   \n",
       "943              585  2016-08-22T22:13:47+0000  21251598643_10155969581248644   \n",
       "3157             562  2014-08-28T08:42:20+0000  21251598643_10152418895568644   \n",
       "423              560  2017-02-13T12:33:43+0000  21251598643_10156493266188644   \n",
       "366              556  2017-03-02T16:47:17+0000  21251598643_10156545520358644   \n",
       "2595             530  2015-03-11T19:51:26+0000  21251598643_10153027231773644   \n",
       "2536             490  2015-03-31T14:24:31+0000  21251598643_10153432734038644   \n",
       "\n",
       "      total_likes                                            message  \n",
       "1431         4750  We promised something awesome today....\\n\\nSo ...  \n",
       "5123          211  POW! Over 20,000 Likes! We're going to choose ...  \n",
       "3340          160  Ok people. \\n\\nIf we were to open a BrewDog re...  \n",
       "9            3229  Australia, we're coming for you! 🇦🇺️🍻\\n\\nBuild...  \n",
       "943           396  Aberdeen, Berlin, Tokyo, Barcelona... \\n\\nWher...  \n",
       "3157          252  We're brewing a Pumpkin Ale and it needs a nam...  \n",
       "423          2437  Dog days.\\n\\nTaking time out for paw-ternity l...  \n",
       "366          1654  Wanna help us build a craft beer hotel? There ...  \n",
       "2595           69  Question of the day: What's your favourite cra...  \n",
       "2536          363  To celebrate the arrival of the new Punk IPA B...  "
      ]
     },
     "execution_count": 121,
     "metadata": {},
     "output_type": "execute_result"
    }
   ],
   "source": [
    "top_comments"
   ]
  },
  {
   "cell_type": "code",
   "execution_count": 122,
   "metadata": {
    "collapsed": true
   },
   "outputs": [],
   "source": [
    "top_comments_id = top_comments['id']"
   ]
  },
  {
   "cell_type": "code",
   "execution_count": 123,
   "metadata": {},
   "outputs": [
    {
     "data": {
      "text/plain": [
       "1431    21251598643_10155537293823644\n",
       "5123    21251598643_10150710699048644\n",
       "3340    21251598643_10152240546088644\n",
       "9       21251598643_10157015278103644\n",
       "943     21251598643_10155969581248644\n",
       "3157    21251598643_10152418895568644\n",
       "423     21251598643_10156493266188644\n",
       "366     21251598643_10156545520358644\n",
       "2595    21251598643_10153027231773644\n",
       "2536    21251598643_10153432734038644\n",
       "Name: id, dtype: object"
      ]
     },
     "execution_count": 123,
     "metadata": {},
     "output_type": "execute_result"
    }
   ],
   "source": [
    "top_comments_id"
   ]
  },
  {
   "cell_type": "code",
   "execution_count": 124,
   "metadata": {},
   "outputs": [
    {
     "name": "stdout",
     "output_type": "stream",
     "text": [
      "https://www.facebook.com/21251598643_10155537293823644\n",
      "https://www.facebook.com/21251598643_10150710699048644\n",
      "https://www.facebook.com/21251598643_10152240546088644\n",
      "https://www.facebook.com/21251598643_10157015278103644\n",
      "https://www.facebook.com/21251598643_10155969581248644\n",
      "https://www.facebook.com/21251598643_10152418895568644\n",
      "https://www.facebook.com/21251598643_10156493266188644\n",
      "https://www.facebook.com/21251598643_10156545520358644\n",
      "https://www.facebook.com/21251598643_10153027231773644\n",
      "https://www.facebook.com/21251598643_10153432734038644\n"
     ]
    }
   ],
   "source": [
    "for i,x in top_comments_id.iteritems():\n",
    "    print ('https://www.facebook.com/'+x )"
   ]
  },
  {
   "cell_type": "code",
   "execution_count": 403,
   "metadata": {
    "collapsed": true
   },
   "outputs": [],
   "source": [
    "top_comments.to_clipboard()"
   ]
  },
  {
   "cell_type": "markdown",
   "metadata": {},
   "source": [
    "## Most Liked Posts"
   ]
  },
  {
   "cell_type": "code",
   "execution_count": 125,
   "metadata": {},
   "outputs": [
    {
     "data": {
      "text/html": [
       "<div>\n",
       "<style>\n",
       "    .dataframe thead tr:only-child th {\n",
       "        text-align: right;\n",
       "    }\n",
       "\n",
       "    .dataframe thead th {\n",
       "        text-align: left;\n",
       "    }\n",
       "\n",
       "    .dataframe tbody tr th {\n",
       "        vertical-align: top;\n",
       "    }\n",
       "</style>\n",
       "<table border=\"1\" class=\"dataframe\">\n",
       "  <thead>\n",
       "    <tr style=\"text-align: right;\">\n",
       "      <th></th>\n",
       "      <th>total_comments</th>\n",
       "      <th>created_time</th>\n",
       "      <th>id</th>\n",
       "      <th>total_likes</th>\n",
       "      <th>message</th>\n",
       "    </tr>\n",
       "  </thead>\n",
       "  <tbody>\n",
       "    <tr>\n",
       "      <th>1431</th>\n",
       "      <td>956</td>\n",
       "      <td>2016-02-25T10:50:29+0000</td>\n",
       "      <td>21251598643_10155537293823644</td>\n",
       "      <td>4750</td>\n",
       "      <td>We promised something awesome today....\\n\\nSo ...</td>\n",
       "    </tr>\n",
       "    <tr>\n",
       "      <th>9</th>\n",
       "      <td>693</td>\n",
       "      <td>2017-07-25T10:36:02+0000</td>\n",
       "      <td>21251598643_10157015278103644</td>\n",
       "      <td>3229</td>\n",
       "      <td>Australia, we're coming for you! 🇦🇺️🍻\\n\\nBuild...</td>\n",
       "    </tr>\n",
       "    <tr>\n",
       "      <th>2274</th>\n",
       "      <td>242</td>\n",
       "      <td>2015-06-10T13:23:54+0000</td>\n",
       "      <td>21251598643_10154301599753644</td>\n",
       "      <td>3016</td>\n",
       "      <td>Epic news everyone!\\n\\nWe have provisionally a...</td>\n",
       "    </tr>\n",
       "    <tr>\n",
       "      <th>258</th>\n",
       "      <td>216</td>\n",
       "      <td>2017-04-11T10:29:25+0000</td>\n",
       "      <td>21251598643_10156681031323644</td>\n",
       "      <td>3013</td>\n",
       "      <td>Decade Of Dog.\\n\\nHere's to 10 years on Planet...</td>\n",
       "    </tr>\n",
       "    <tr>\n",
       "      <th>423</th>\n",
       "      <td>560</td>\n",
       "      <td>2017-02-13T12:33:43+0000</td>\n",
       "      <td>21251598643_10156493266188644</td>\n",
       "      <td>2437</td>\n",
       "      <td>Dog days.\\n\\nTaking time out for paw-ternity l...</td>\n",
       "    </tr>\n",
       "    <tr>\n",
       "      <th>368</th>\n",
       "      <td>346</td>\n",
       "      <td>2017-03-02T15:22:48+0000</td>\n",
       "      <td>21251598643_10156545371448644</td>\n",
       "      <td>2386</td>\n",
       "      <td>We want to build the world’s first craft beer ...</td>\n",
       "    </tr>\n",
       "    <tr>\n",
       "      <th>1492</th>\n",
       "      <td>365</td>\n",
       "      <td>2016-02-05T16:57:57+0000</td>\n",
       "      <td>21251598643_10155498624798644</td>\n",
       "      <td>2262</td>\n",
       "      <td>41% quadruple IPA has just returned to the onl...</td>\n",
       "    </tr>\n",
       "    <tr>\n",
       "      <th>300</th>\n",
       "      <td>286</td>\n",
       "      <td>2017-03-29T09:55:49+0000</td>\n",
       "      <td>21251598643_10156642622313644</td>\n",
       "      <td>2200</td>\n",
       "      <td>Please don't steal our trademarks.</td>\n",
       "    </tr>\n",
       "    <tr>\n",
       "      <th>2481</th>\n",
       "      <td>151</td>\n",
       "      <td>2015-04-17T13:42:55+0000</td>\n",
       "      <td>21251598643_10153664748898644</td>\n",
       "      <td>1813</td>\n",
       "      <td>So those of you also on Twitter may have notic...</td>\n",
       "    </tr>\n",
       "    <tr>\n",
       "      <th>2247</th>\n",
       "      <td>175</td>\n",
       "      <td>2015-06-15T12:52:42+0000</td>\n",
       "      <td>21251598643_10154358349548644</td>\n",
       "      <td>1802</td>\n",
       "      <td>This is the largest crowdfunding venture in hi...</td>\n",
       "    </tr>\n",
       "  </tbody>\n",
       "</table>\n",
       "</div>"
      ],
      "text/plain": [
       "      total_comments              created_time                             id  \\\n",
       "1431             956  2016-02-25T10:50:29+0000  21251598643_10155537293823644   \n",
       "9                693  2017-07-25T10:36:02+0000  21251598643_10157015278103644   \n",
       "2274             242  2015-06-10T13:23:54+0000  21251598643_10154301599753644   \n",
       "258              216  2017-04-11T10:29:25+0000  21251598643_10156681031323644   \n",
       "423              560  2017-02-13T12:33:43+0000  21251598643_10156493266188644   \n",
       "368              346  2017-03-02T15:22:48+0000  21251598643_10156545371448644   \n",
       "1492             365  2016-02-05T16:57:57+0000  21251598643_10155498624798644   \n",
       "300              286  2017-03-29T09:55:49+0000  21251598643_10156642622313644   \n",
       "2481             151  2015-04-17T13:42:55+0000  21251598643_10153664748898644   \n",
       "2247             175  2015-06-15T12:52:42+0000  21251598643_10154358349548644   \n",
       "\n",
       "      total_likes                                            message  \n",
       "1431         4750  We promised something awesome today....\\n\\nSo ...  \n",
       "9            3229  Australia, we're coming for you! 🇦🇺️🍻\\n\\nBuild...  \n",
       "2274         3016  Epic news everyone!\\n\\nWe have provisionally a...  \n",
       "258          3013  Decade Of Dog.\\n\\nHere's to 10 years on Planet...  \n",
       "423          2437  Dog days.\\n\\nTaking time out for paw-ternity l...  \n",
       "368          2386  We want to build the world’s first craft beer ...  \n",
       "1492         2262  41% quadruple IPA has just returned to the onl...  \n",
       "300          2200                 Please don't steal our trademarks.  \n",
       "2481         1813  So those of you also on Twitter may have notic...  \n",
       "2247         1802  This is the largest crowdfunding venture in hi...  "
      ]
     },
     "execution_count": 125,
     "metadata": {},
     "output_type": "execute_result"
    }
   ],
   "source": [
    "top_likes = brewdog_df.sort_values('total_likes',ascending=False)\n",
    "\n",
    "top_likes = top_likes.head(10)\n",
    "\n",
    "top_likes"
   ]
  },
  {
   "cell_type": "code",
   "execution_count": 186,
   "metadata": {},
   "outputs": [
    {
     "data": {
      "text/plain": [
       "count    6409.000000\n",
       "mean      117.078015\n",
       "std       193.231185\n",
       "min         0.000000\n",
       "25%        21.000000\n",
       "50%        60.000000\n",
       "75%       140.000000\n",
       "max      4750.000000\n",
       "Name: total_likes, dtype: float64"
      ]
     },
     "execution_count": 186,
     "metadata": {},
     "output_type": "execute_result"
    }
   ],
   "source": [
    "brewdog_df['total_likes'].describe()"
   ]
  },
  {
   "cell_type": "code",
   "execution_count": 126,
   "metadata": {
    "collapsed": true
   },
   "outputs": [],
   "source": [
    "top_likes_id = top_likes['id']"
   ]
  },
  {
   "cell_type": "code",
   "execution_count": 127,
   "metadata": {},
   "outputs": [
    {
     "name": "stdout",
     "output_type": "stream",
     "text": [
      "https://www.facebook.com/21251598643_10155537293823644\n",
      "https://www.facebook.com/21251598643_10157015278103644\n",
      "https://www.facebook.com/21251598643_10154301599753644\n",
      "https://www.facebook.com/21251598643_10156681031323644\n",
      "https://www.facebook.com/21251598643_10156493266188644\n",
      "https://www.facebook.com/21251598643_10156545371448644\n",
      "https://www.facebook.com/21251598643_10155498624798644\n",
      "https://www.facebook.com/21251598643_10156642622313644\n",
      "https://www.facebook.com/21251598643_10153664748898644\n",
      "https://www.facebook.com/21251598643_10154358349548644\n"
     ]
    }
   ],
   "source": [
    "for i,x in top_likes_id.iteritems():\n",
    "    print ('https://www.facebook.com/'+x)"
   ]
  },
  {
   "cell_type": "code",
   "execution_count": 404,
   "metadata": {
    "collapsed": true
   },
   "outputs": [],
   "source": [
    "top_likes.to_clipboard()"
   ]
  },
  {
   "cell_type": "markdown",
   "metadata": {},
   "source": [
    "## Counting Top Words"
   ]
  },
  {
   "cell_type": "code",
   "execution_count": 285,
   "metadata": {
    "collapsed": true
   },
   "outputs": [],
   "source": [
    "def count_words(df):\n",
    "    stop_words=[\"a\",\"about\",\"above\",\"after\",\"again\",\"against\",\"all\",\"am\",\"an\",\"and\",\"any\",\"are\",\"now\",\n",
    "\"aren't\",\"as\",\"at\",\"be\",\"because\",\"been\",\"before\",\"being\",\"below\",\"between\",\"both\",\"but\",\"by\",\n",
    "\"can't\",\"cannot\",\"could\",\"couldn't\",\"did\",\"didn't\",\"do\",\"does\",\"doesn't\",\"doing\",\"don't\",\"down\",\n",
    "\"during\",\"each\",\"few\",\"for\",\"from\",\"further\",\"had\",\"hadn't\",\"has\",\"hasn't\",\"have\",\"haven't\",\"having\",\n",
    "\"he\",\"he'd\",\"he'll\",\"he's\",\"her\",\"here\",\"here's\",\"hers\",\"herself\",\"him\",\"himself\",\"his\",\"how\",\"how's\",\n",
    "\"i\",\"i'd\",\"i'll\",\"i'm\",\"i've\",\"if\",\"in\",\"into\",\"is\",\"isn't\",\"it\",\"it's\",\"its\",\"itself\",\"let's\",\"me\",\"more\",\n",
    "\"most\",\"mustn't\",\"my\",\"myself\",\"no\",\"nor\",\"not\",\"of\",\n",
    "\"off\",\"on\",\"once\",\"only\",\"or\",\"other\",\"ought\",\"our\",\n",
    "\"ours\tourselves\",\"out\",\"over\",\"own\",\"same\",\"shan't\",\n",
    "\"she\",\"she'd\",\"she'll\",\"she's\",\"should\",\"shouldn't\",\"so\",\n",
    "\"some\",\"such\",\"than\",\"that\",\"that's\",\"the\",\"their\",\"theirs\",\n",
    "\"them\",\"themselves\",\"then\",\"there\",\"there's\",\"these\",\"they\",\n",
    "\"they'd\",\"they'll\",\"they're\",\"they've\",\"this\",\"those\",\"through\",\n",
    "\"to\",\"too\",\"under\",\"until\",\"up\",\"very\",\"was\",\"wasn't\",\"we\",\"we'd\",\n",
    "\"we'll\",\"we're\",\"we've\",\"were\",\"weren't\",\"what\",\"what's\",\"when\",\"when's\",\n",
    "\"where\",\"where's\",\"which\",\"while\",\"who\",\"who's\",\"whom\",\"why\",\"why's\",\"with\",\n",
    "\"won't\",\"would\",\"wouldn't\",\"you\",\"you'd\",\"you'll\",\"you're\",\"you've\",\"your\",'guys','just','day',\n",
    "\"yours\",\"yourself\",\"yourselves\",\"will\",\"ana\",\"isa\",\"can\",\"hwa\",\"wala\",\"msh\",\"wla\",\"hya\",\"will\",'enta','7aga','mesh','dah','bas','elly','b2a','3ala','alf','enty','3al','one', 'get', 'got', 'know', 'today','want', 'see', 'make']\n",
    "\n",
    "    mapping = dict.fromkeys(map(ord, string.punctuation))\n",
    "    \n",
    "    plural_words = ['beer', 'punk', 'bar']\n",
    "    \n",
    "    words={}\n",
    "\n",
    "    for m in df2['message']:\n",
    "        try:\n",
    "            seperated_words=m.split(' ')\n",
    "        except:\n",
    "            pass\n",
    "           # print \"ERROR\"+str(m) \n",
    "        for word in seperated_words:\n",
    "                word=word.strip()\n",
    "                word=word.lower()\n",
    "                \n",
    "                word=word.translate(mapping) # Removes any punctation\n",
    "                \n",
    "                if word in stop_words:\n",
    "                    continue\n",
    "                if len(word) < 3:\n",
    "                    continue    \n",
    "                if word in words:\n",
    "                    words[word]+=1\n",
    "                elif word[0:-1] in words:\n",
    "                    words[word[0:-1]]+=1\n",
    "                elif word[0:-1] in plural_words:\n",
    "                    words[word[0:-1]]=1\n",
    "                else:\n",
    "                    words[word]=1\n",
    "    print(\"done counting words\")\n",
    "    return words"
   ]
  },
  {
   "cell_type": "code",
   "execution_count": 286,
   "metadata": {},
   "outputs": [
    {
     "name": "stdout",
     "output_type": "stream",
     "text": [
      "done counting words\n"
     ]
    }
   ],
   "source": [
    "words=count_words(brewdog_df)\n",
    "words_items = words.items()"
   ]
  },
  {
   "cell_type": "code",
   "execution_count": 287,
   "metadata": {},
   "outputs": [
    {
     "data": {
      "text/html": [
       "<div>\n",
       "<style>\n",
       "    .dataframe thead tr:only-child th {\n",
       "        text-align: right;\n",
       "    }\n",
       "\n",
       "    .dataframe thead th {\n",
       "        text-align: left;\n",
       "    }\n",
       "\n",
       "    .dataframe tbody tr th {\n",
       "        vertical-align: top;\n",
       "    }\n",
       "</style>\n",
       "<table border=\"1\" class=\"dataframe\">\n",
       "  <thead>\n",
       "    <tr style=\"text-align: right;\">\n",
       "      <th></th>\n",
       "      <th>Words</th>\n",
       "      <th>Count</th>\n",
       "    </tr>\n",
       "  </thead>\n",
       "  <tbody>\n",
       "    <tr>\n",
       "      <th>0</th>\n",
       "      <td>fresh</td>\n",
       "      <td>27</td>\n",
       "    </tr>\n",
       "    <tr>\n",
       "      <th>1</th>\n",
       "      <td>pint</td>\n",
       "      <td>28</td>\n",
       "    </tr>\n",
       "    <tr>\n",
       "      <th>2</th>\n",
       "      <td>punkipa</td>\n",
       "      <td>1</td>\n",
       "    </tr>\n",
       "    <tr>\n",
       "      <th>3</th>\n",
       "      <td>poured</td>\n",
       "      <td>3</td>\n",
       "    </tr>\n",
       "    <tr>\n",
       "      <th>4</th>\n",
       "      <td>rolling</td>\n",
       "      <td>29</td>\n",
       "    </tr>\n",
       "    <tr>\n",
       "      <th>5</th>\n",
       "      <td>towards</td>\n",
       "      <td>1</td>\n",
       "    </tr>\n",
       "    <tr>\n",
       "      <th>6</th>\n",
       "      <td>weekend\\n\\nwhats</td>\n",
       "      <td>1</td>\n",
       "    </tr>\n",
       "    <tr>\n",
       "      <th>7</th>\n",
       "      <td>first</td>\n",
       "      <td>157</td>\n",
       "    </tr>\n",
       "    <tr>\n",
       "      <th>8</th>\n",
       "      <td>beer</td>\n",
       "      <td>2224</td>\n",
       "    </tr>\n",
       "    <tr>\n",
       "      <th>9</th>\n",
       "      <td>conveyor</td>\n",
       "      <td>3</td>\n",
       "    </tr>\n",
       "  </tbody>\n",
       "</table>\n",
       "</div>"
      ],
      "text/plain": [
       "              Words  Count\n",
       "0             fresh     27\n",
       "1              pint     28\n",
       "2           punkipa      1\n",
       "3            poured      3\n",
       "4           rolling     29\n",
       "5           towards      1\n",
       "6  weekend\\n\\nwhats      1\n",
       "7             first    157\n",
       "8              beer   2224\n",
       "9          conveyor      3"
      ]
     },
     "execution_count": 287,
     "metadata": {},
     "output_type": "execute_result"
    }
   ],
   "source": [
    "words_df= pd.DataFrame.from_dict(words, orient='index')\n",
    "words_df.reset_index(inplace=True)\n",
    "words_df.rename( columns= { \"index\" : \"Words\"} , inplace=True)\n",
    "words_df.rename( columns= { 0 : \"Count\"} , inplace=True)\n",
    "words_df.head(10)\n"
   ]
  },
  {
   "cell_type": "code",
   "execution_count": 288,
   "metadata": {
    "collapsed": true
   },
   "outputs": [],
   "source": [
    "words_df.sort_values('Count' , ascending=False,inplace=True)"
   ]
  },
  {
   "cell_type": "code",
   "execution_count": 289,
   "metadata": {},
   "outputs": [
    {
     "data": {
      "text/html": [
       "<div>\n",
       "<style>\n",
       "    .dataframe thead tr:only-child th {\n",
       "        text-align: right;\n",
       "    }\n",
       "\n",
       "    .dataframe thead th {\n",
       "        text-align: left;\n",
       "    }\n",
       "\n",
       "    .dataframe tbody tr th {\n",
       "        vertical-align: top;\n",
       "    }\n",
       "</style>\n",
       "<table border=\"1\" class=\"dataframe\">\n",
       "  <thead>\n",
       "    <tr style=\"text-align: right;\">\n",
       "      <th></th>\n",
       "      <th>Words</th>\n",
       "      <th>Count</th>\n",
       "    </tr>\n",
       "  </thead>\n",
       "  <tbody>\n",
       "    <tr>\n",
       "      <th>8</th>\n",
       "      <td>beer</td>\n",
       "      <td>2224</td>\n",
       "    </tr>\n",
       "    <tr>\n",
       "      <th>54</th>\n",
       "      <td>brewdog</td>\n",
       "      <td>1440</td>\n",
       "    </tr>\n",
       "    <tr>\n",
       "      <th>2615</th>\n",
       "      <td>brewpix</td>\n",
       "      <td>1163</td>\n",
       "    </tr>\n",
       "    <tr>\n",
       "      <th>93</th>\n",
       "      <td>bar</td>\n",
       "      <td>823</td>\n",
       "    </tr>\n",
       "    <tr>\n",
       "      <th>39</th>\n",
       "      <td>new</td>\n",
       "      <td>722</td>\n",
       "    </tr>\n",
       "    <tr>\n",
       "      <th>51</th>\n",
       "      <td>punk</td>\n",
       "      <td>636</td>\n",
       "    </tr>\n",
       "    <tr>\n",
       "      <th>66</th>\n",
       "      <td>brew</td>\n",
       "      <td>565</td>\n",
       "    </tr>\n",
       "    <tr>\n",
       "      <th>56</th>\n",
       "      <td>craft</td>\n",
       "      <td>469</td>\n",
       "    </tr>\n",
       "    <tr>\n",
       "      <th>381</th>\n",
       "      <td>awesome</td>\n",
       "      <td>411</td>\n",
       "    </tr>\n",
       "    <tr>\n",
       "      <th>50</th>\n",
       "      <td>equity</td>\n",
       "      <td>328</td>\n",
       "    </tr>\n",
       "    <tr>\n",
       "      <th>155</th>\n",
       "      <td>ipa</td>\n",
       "      <td>323</td>\n",
       "    </tr>\n",
       "    <tr>\n",
       "      <th>199</th>\n",
       "      <td>week</td>\n",
       "      <td>258</td>\n",
       "    </tr>\n",
       "    <tr>\n",
       "      <th>63</th>\n",
       "      <td>like</td>\n",
       "      <td>247</td>\n",
       "    </tr>\n",
       "    <tr>\n",
       "      <th>149</th>\n",
       "      <td>weekend</td>\n",
       "      <td>247</td>\n",
       "    </tr>\n",
       "    <tr>\n",
       "      <th>264</th>\n",
       "      <td>time</td>\n",
       "      <td>245</td>\n",
       "    </tr>\n",
       "    <tr>\n",
       "      <th>395</th>\n",
       "      <td>brewery</td>\n",
       "      <td>243</td>\n",
       "    </tr>\n",
       "    <tr>\n",
       "      <th>322</th>\n",
       "      <td>brewing</td>\n",
       "      <td>237</td>\n",
       "    </tr>\n",
       "    <tr>\n",
       "      <th>213</th>\n",
       "      <td>hop</td>\n",
       "      <td>234</td>\n",
       "    </tr>\n",
       "    <tr>\n",
       "      <th>224</th>\n",
       "      <td>epic</td>\n",
       "      <td>224</td>\n",
       "    </tr>\n",
       "    <tr>\n",
       "      <th>231</th>\n",
       "      <td>latest</td>\n",
       "      <td>192</td>\n",
       "    </tr>\n",
       "  </tbody>\n",
       "</table>\n",
       "</div>"
      ],
      "text/plain": [
       "        Words  Count\n",
       "8        beer   2224\n",
       "54    brewdog   1440\n",
       "2615  brewpix   1163\n",
       "93        bar    823\n",
       "39        new    722\n",
       "51       punk    636\n",
       "66       brew    565\n",
       "56      craft    469\n",
       "381   awesome    411\n",
       "50     equity    328\n",
       "155       ipa    323\n",
       "199      week    258\n",
       "63       like    247\n",
       "149   weekend    247\n",
       "264      time    245\n",
       "395   brewery    243\n",
       "322   brewing    237\n",
       "213       hop    234\n",
       "224      epic    224\n",
       "231    latest    192"
      ]
     },
     "execution_count": 289,
     "metadata": {},
     "output_type": "execute_result"
    }
   ],
   "source": [
    "words_df.head(20)"
   ]
  },
  {
   "cell_type": "code",
   "execution_count": 290,
   "metadata": {},
   "outputs": [
    {
     "data": {
      "text/plain": [
       "<matplotlib.axes._subplots.AxesSubplot at 0x1203a1668>"
      ]
     },
     "execution_count": 290,
     "metadata": {},
     "output_type": "execute_result"
    },
    {
     "data": {
      "image/png": "[encoded data removed]",
      "text/plain": [
       "<matplotlib.figure.Figure at 0x12039a0b8>"
      ]
     },
     "metadata": {},
     "output_type": "display_data"
    }
   ],
   "source": [
    "%matplotlib inline\n",
    "words_df[words_df['Count'] > 200 ].plot(x='Words',kind='bar')"
   ]
  },
  {
   "cell_type": "markdown",
   "metadata": {},
   "source": [
    "## Group by Date & Time"
   ]
  },
  {
   "cell_type": "code",
   "execution_count": 292,
   "metadata": {},
   "outputs": [
    {
     "data": {
      "text/html": [
       "<div>\n",
       "<style>\n",
       "    .dataframe thead tr:only-child th {\n",
       "        text-align: right;\n",
       "    }\n",
       "\n",
       "    .dataframe thead th {\n",
       "        text-align: left;\n",
       "    }\n",
       "\n",
       "    .dataframe tbody tr th {\n",
       "        vertical-align: top;\n",
       "    }\n",
       "</style>\n",
       "<table border=\"1\" class=\"dataframe\">\n",
       "  <thead>\n",
       "    <tr style=\"text-align: right;\">\n",
       "      <th></th>\n",
       "      <th>created_time</th>\n",
       "    </tr>\n",
       "  </thead>\n",
       "  <tbody>\n",
       "    <tr>\n",
       "      <th>0</th>\n",
       "      <td>2017-07-29 09:30:00</td>\n",
       "    </tr>\n",
       "    <tr>\n",
       "      <th>1</th>\n",
       "      <td>2017-07-28 16:55:01</td>\n",
       "    </tr>\n",
       "    <tr>\n",
       "      <th>2</th>\n",
       "      <td>2017-07-28 15:12:39</td>\n",
       "    </tr>\n",
       "    <tr>\n",
       "      <th>3</th>\n",
       "      <td>2017-07-28 10:24:41</td>\n",
       "    </tr>\n",
       "    <tr>\n",
       "      <th>4</th>\n",
       "      <td>2017-07-27 15:15:00</td>\n",
       "    </tr>\n",
       "  </tbody>\n",
       "</table>\n",
       "</div>"
      ],
      "text/plain": [
       "         created_time\n",
       "0 2017-07-29 09:30:00\n",
       "1 2017-07-28 16:55:01\n",
       "2 2017-07-28 15:12:39\n",
       "3 2017-07-28 10:24:41\n",
       "4 2017-07-27 15:15:00"
      ]
     },
     "execution_count": 292,
     "metadata": {},
     "output_type": "execute_result"
    }
   ],
   "source": [
    "date_df =pd.DataFrame(pd.to_datetime(brewdog_df.created_time))\n",
    "date_df.head()"
   ]
  },
  {
   "cell_type": "code",
   "execution_count": 321,
   "metadata": {},
   "outputs": [
    {
     "data": {
      "text/plain": [
       "pandas.core.series.Series"
      ]
     },
     "execution_count": 321,
     "metadata": {},
     "output_type": "execute_result"
    }
   ],
   "source": [
    "type(date_df['created_time'])"
   ]
  },
  {
   "cell_type": "code",
   "execution_count": 293,
   "metadata": {},
   "outputs": [
    {
     "data": {
      "text/plain": [
       "Timestamp('2017-07-29 09:30:00')"
      ]
     },
     "execution_count": 293,
     "metadata": {},
     "output_type": "execute_result"
    }
   ],
   "source": [
    "date_df.created_time.loc[0]"
   ]
  },
  {
   "cell_type": "code",
   "execution_count": 294,
   "metadata": {},
   "outputs": [
    {
     "data": {
      "text/plain": [
       "<matplotlib.axes._subplots.AxesSubplot at 0x12039ad68>"
      ]
     },
     "execution_count": 294,
     "metadata": {},
     "output_type": "execute_result"
    },
    {
     "data": {
      "image/png": "[encoded data removed]",
      "text/plain": [
       "<matplotlib.figure.Figure at 0x1204325c0>"
      ]
     },
     "metadata": {},
     "output_type": "display_data"
    }
   ],
   "source": [
    "%matplotlib inline\n",
    "fig_month=date_df.groupby(date_df.created_time.dt.month).count().plot(kind=\"bar\",title=\"Posts per Month\")\n",
    "fig_month"
   ]
  },
  {
   "cell_type": "code",
   "execution_count": 296,
   "metadata": {},
   "outputs": [
    {
     "data": {
      "text/plain": [
       "<matplotlib.axes._subplots.AxesSubplot at 0x120686240>"
      ]
     },
     "execution_count": 296,
     "metadata": {},
     "output_type": "execute_result"
    },
    {
     "data": {
      "image/png": "[encoded data removed]",
      "text/plain": [
       "<matplotlib.figure.Figure at 0x11ff15128>"
      ]
     },
     "metadata": {},
     "output_type": "display_data"
    }
   ],
   "source": [
    "fig_year=date_df.groupby(date_df.created_time.dt.year).count().plot(kind=\"bar\",title=\"Posts per Year\")\n",
    "fig_year"
   ]
  },
  {
   "cell_type": "code",
   "execution_count": 300,
   "metadata": {},
   "outputs": [
    {
     "data": {
      "text/plain": [
       "<matplotlib.axes._subplots.AxesSubplot at 0x1201aba20>"
      ]
     },
     "execution_count": 300,
     "metadata": {},
     "output_type": "execute_result"
    },
    {
     "data": {
      "image/png": "[encoded data removed]",
      "text/plain": [
       "<matplotlib.figure.Figure at 0x120b12cf8>"
      ]
     },
     "metadata": {},
     "output_type": "display_data"
    }
   ],
   "source": [
    "fig_hour=date_df.groupby(date_df.created_time.dt.hour).count().plot(kind=\"bar\",title=\"Posts per Hour of the Day\")\n",
    "fig_hour"
   ]
  },
  {
   "cell_type": "markdown",
   "metadata": {},
   "source": [
    "## Number of Likes & Time of Post"
   ]
  },
  {
   "cell_type": "code",
   "execution_count": 304,
   "metadata": {},
   "outputs": [
    {
     "data": {
      "text/html": [
       "<div>\n",
       "<style>\n",
       "    .dataframe thead tr:only-child th {\n",
       "        text-align: right;\n",
       "    }\n",
       "\n",
       "    .dataframe thead th {\n",
       "        text-align: left;\n",
       "    }\n",
       "\n",
       "    .dataframe tbody tr th {\n",
       "        vertical-align: top;\n",
       "    }\n",
       "</style>\n",
       "<table border=\"1\" class=\"dataframe\">\n",
       "  <thead>\n",
       "    <tr style=\"text-align: right;\">\n",
       "      <th></th>\n",
       "      <th>total_comments</th>\n",
       "      <th>created_time</th>\n",
       "      <th>id</th>\n",
       "      <th>total_likes</th>\n",
       "      <th>message</th>\n",
       "    </tr>\n",
       "  </thead>\n",
       "  <tbody>\n",
       "    <tr>\n",
       "      <th>0</th>\n",
       "      <td>85</td>\n",
       "      <td>2017-07-29 09:30:00</td>\n",
       "      <td>21251598643_10157023200443644</td>\n",
       "      <td>877</td>\n",
       "      <td>When you see a fresh pint of PunkIPA being pou...</td>\n",
       "    </tr>\n",
       "    <tr>\n",
       "      <th>1</th>\n",
       "      <td>42</td>\n",
       "      <td>2017-07-28 16:55:01</td>\n",
       "      <td>21251598643_10157026990843644</td>\n",
       "      <td>195</td>\n",
       "      <td>Rolling towards the weekend...\\n\\nWhat's first...</td>\n",
       "    </tr>\n",
       "    <tr>\n",
       "      <th>2</th>\n",
       "      <td>3</td>\n",
       "      <td>2017-07-28 15:12:39</td>\n",
       "      <td>21251598643_10157026772808644</td>\n",
       "      <td>25</td>\n",
       "      <td>“*Drumroll please!*\\n\\nAnd the winner is… Jenn...</td>\n",
       "    </tr>\n",
       "    <tr>\n",
       "      <th>3</th>\n",
       "      <td>21</td>\n",
       "      <td>2017-07-28 10:24:41</td>\n",
       "      <td>21251598643_10157026143968644</td>\n",
       "      <td>296</td>\n",
       "      <td>Slot Machine ✔️\\n\\nHomicidal Puppet Help Desk ...</td>\n",
       "    </tr>\n",
       "    <tr>\n",
       "      <th>4</th>\n",
       "      <td>107</td>\n",
       "      <td>2017-07-27 15:15:00</td>\n",
       "      <td>21251598643_10157023539678644</td>\n",
       "      <td>807</td>\n",
       "      <td>IT JUST GOT REAL...24 hours left to invest in ...</td>\n",
       "    </tr>\n",
       "    <tr>\n",
       "      <th>5</th>\n",
       "      <td>0</td>\n",
       "      <td>2017-07-27 10:23:15</td>\n",
       "      <td>21251598643_10157022954943644</td>\n",
       "      <td>127</td>\n",
       "      <td>Ever wondered what it’s like to live the dream...</td>\n",
       "    </tr>\n",
       "    <tr>\n",
       "      <th>6</th>\n",
       "      <td>367</td>\n",
       "      <td>2017-07-26 15:09:43</td>\n",
       "      <td>21251598643_10157020288548644</td>\n",
       "      <td>307</td>\n",
       "      <td>Win tickets to London Craft Beer Festival!!\\n\\...</td>\n",
       "    </tr>\n",
       "    <tr>\n",
       "      <th>7</th>\n",
       "      <td>46</td>\n",
       "      <td>2017-07-26 10:12:37</td>\n",
       "      <td>21251598643_10157019494158644</td>\n",
       "      <td>456</td>\n",
       "      <td>Guess what's back in the online shop....HAZY F...</td>\n",
       "    </tr>\n",
       "    <tr>\n",
       "      <th>8</th>\n",
       "      <td>8</td>\n",
       "      <td>2017-07-25 16:25:17</td>\n",
       "      <td>21251598643_10157016822788644</td>\n",
       "      <td>123</td>\n",
       "      <td>LoneWolf Spirits need your help to do for craf...</td>\n",
       "    </tr>\n",
       "    <tr>\n",
       "      <th>9</th>\n",
       "      <td>693</td>\n",
       "      <td>2017-07-25 10:36:02</td>\n",
       "      <td>21251598643_10157015278103644</td>\n",
       "      <td>3229</td>\n",
       "      <td>Australia, we're coming for you! 🇦🇺️🍻\\n\\nBuild...</td>\n",
       "    </tr>\n",
       "  </tbody>\n",
       "</table>\n",
       "</div>"
      ],
      "text/plain": [
       "   total_comments        created_time                             id  \\\n",
       "0              85 2017-07-29 09:30:00  21251598643_10157023200443644   \n",
       "1              42 2017-07-28 16:55:01  21251598643_10157026990843644   \n",
       "2               3 2017-07-28 15:12:39  21251598643_10157026772808644   \n",
       "3              21 2017-07-28 10:24:41  21251598643_10157026143968644   \n",
       "4             107 2017-07-27 15:15:00  21251598643_10157023539678644   \n",
       "5               0 2017-07-27 10:23:15  21251598643_10157022954943644   \n",
       "6             367 2017-07-26 15:09:43  21251598643_10157020288548644   \n",
       "7              46 2017-07-26 10:12:37  21251598643_10157019494158644   \n",
       "8               8 2017-07-25 16:25:17  21251598643_10157016822788644   \n",
       "9             693 2017-07-25 10:36:02  21251598643_10157015278103644   \n",
       "\n",
       "   total_likes                                            message  \n",
       "0          877  When you see a fresh pint of PunkIPA being pou...  \n",
       "1          195  Rolling towards the weekend...\\n\\nWhat's first...  \n",
       "2           25  “*Drumroll please!*\\n\\nAnd the winner is… Jenn...  \n",
       "3          296  Slot Machine ✔️\\n\\nHomicidal Puppet Help Desk ...  \n",
       "4          807  IT JUST GOT REAL...24 hours left to invest in ...  \n",
       "5          127  Ever wondered what it’s like to live the dream...  \n",
       "6          307  Win tickets to London Craft Beer Festival!!\\n\\...  \n",
       "7          456  Guess what's back in the online shop....HAZY F...  \n",
       "8          123  LoneWolf Spirits need your help to do for craf...  \n",
       "9         3229  Australia, we're coming for you! 🇦🇺️🍻\\n\\nBuild...  "
      ]
     },
     "execution_count": 304,
     "metadata": {},
     "output_type": "execute_result"
    }
   ],
   "source": [
    "brewdog_df['created_time'] =  pd.to_datetime(brewdog_df['created_time'])\n",
    "brewdog_df.head(10)\n"
   ]
  },
  {
   "cell_type": "code",
   "execution_count": 338,
   "metadata": {},
   "outputs": [
    {
     "data": {
      "text/html": [
       "<div>\n",
       "<style>\n",
       "    .dataframe thead tr:only-child th {\n",
       "        text-align: right;\n",
       "    }\n",
       "\n",
       "    .dataframe thead th {\n",
       "        text-align: left;\n",
       "    }\n",
       "\n",
       "    .dataframe tbody tr th {\n",
       "        vertical-align: top;\n",
       "    }\n",
       "</style>\n",
       "<table border=\"1\" class=\"dataframe\">\n",
       "  <thead>\n",
       "    <tr style=\"text-align: right;\">\n",
       "      <th></th>\n",
       "      <th>created_time</th>\n",
       "      <th>total_likes</th>\n",
       "      <th>total_comments</th>\n",
       "    </tr>\n",
       "  </thead>\n",
       "  <tbody>\n",
       "    <tr>\n",
       "      <th>0</th>\n",
       "      <td>2017-07-29 09:30:00</td>\n",
       "      <td>877</td>\n",
       "      <td>85</td>\n",
       "    </tr>\n",
       "    <tr>\n",
       "      <th>1</th>\n",
       "      <td>2017-07-28 16:55:01</td>\n",
       "      <td>195</td>\n",
       "      <td>42</td>\n",
       "    </tr>\n",
       "    <tr>\n",
       "      <th>2</th>\n",
       "      <td>2017-07-28 15:12:39</td>\n",
       "      <td>25</td>\n",
       "      <td>3</td>\n",
       "    </tr>\n",
       "    <tr>\n",
       "      <th>3</th>\n",
       "      <td>2017-07-28 10:24:41</td>\n",
       "      <td>296</td>\n",
       "      <td>21</td>\n",
       "    </tr>\n",
       "    <tr>\n",
       "      <th>4</th>\n",
       "      <td>2017-07-27 15:15:00</td>\n",
       "      <td>807</td>\n",
       "      <td>107</td>\n",
       "    </tr>\n",
       "    <tr>\n",
       "      <th>5</th>\n",
       "      <td>2017-07-27 10:23:15</td>\n",
       "      <td>127</td>\n",
       "      <td>0</td>\n",
       "    </tr>\n",
       "    <tr>\n",
       "      <th>6</th>\n",
       "      <td>2017-07-26 15:09:43</td>\n",
       "      <td>307</td>\n",
       "      <td>367</td>\n",
       "    </tr>\n",
       "    <tr>\n",
       "      <th>7</th>\n",
       "      <td>2017-07-26 10:12:37</td>\n",
       "      <td>456</td>\n",
       "      <td>46</td>\n",
       "    </tr>\n",
       "    <tr>\n",
       "      <th>8</th>\n",
       "      <td>2017-07-25 16:25:17</td>\n",
       "      <td>123</td>\n",
       "      <td>8</td>\n",
       "    </tr>\n",
       "    <tr>\n",
       "      <th>9</th>\n",
       "      <td>2017-07-25 10:36:02</td>\n",
       "      <td>3229</td>\n",
       "      <td>693</td>\n",
       "    </tr>\n",
       "  </tbody>\n",
       "</table>\n",
       "</div>"
      ],
      "text/plain": [
       "         created_time  total_likes  total_comments\n",
       "0 2017-07-29 09:30:00          877              85\n",
       "1 2017-07-28 16:55:01          195              42\n",
       "2 2017-07-28 15:12:39           25               3\n",
       "3 2017-07-28 10:24:41          296              21\n",
       "4 2017-07-27 15:15:00          807             107\n",
       "5 2017-07-27 10:23:15          127               0\n",
       "6 2017-07-26 15:09:43          307             367\n",
       "7 2017-07-26 10:12:37          456              46\n",
       "8 2017-07-25 16:25:17          123               8\n",
       "9 2017-07-25 10:36:02         3229             693"
      ]
     },
     "execution_count": 338,
     "metadata": {},
     "output_type": "execute_result"
    }
   ],
   "source": [
    "brewdog_time = brewdog_df[['created_time', 'total_likes', 'total_comments']]\n",
    "brewdog_time.head(10)"
   ]
  },
  {
   "cell_type": "code",
   "execution_count": 358,
   "metadata": {},
   "outputs": [
    {
     "data": {
      "text/plain": [
       "created_time\n",
       "0       915\n",
       "1       403\n",
       "2       266\n",
       "3       127\n",
       "4        90\n",
       "5        65\n",
       "6       306\n",
       "7      2878\n",
       "8     11325\n",
       "9     20948\n",
       "10    58365\n",
       "11    77219\n",
       "12    98347\n",
       "13    83981\n",
       "14    83430\n",
       "15    91099\n",
       "16    71680\n",
       "17    45169\n",
       "18    37786\n",
       "19    35594\n",
       "20    22032\n",
       "21     3088\n",
       "22     4557\n",
       "23      683\n",
       "Name: total_likes, dtype: int64"
      ]
     },
     "execution_count": 358,
     "metadata": {},
     "output_type": "execute_result"
    }
   ],
   "source": [
    "time_likes=brewdog_time.groupby(brewdog_time.created_time.dt.hour)['total_likes'].sum()\n",
    "time_likes.head(24)"
   ]
  },
  {
   "cell_type": "code",
   "execution_count": 398,
   "metadata": {},
   "outputs": [
    {
     "data": {
      "image/png": "[encoded data removed]",
      "text/plain": [
       "<matplotlib.figure.Figure at 0x123039438>"
      ]
     },
     "metadata": {},
     "output_type": "display_data"
    }
   ],
   "source": [
    "fig_time_likes = brewdog_time.groupby(brewdog_time.created_time.dt.hour)['total_likes'].sum().plot(kind=\"bar\",title=\"Total Likes on All Posts Based on Hour Posted\")\n"
   ]
  },
  {
   "cell_type": "markdown",
   "metadata": {},
   "source": [
    "## Number of Comments & Time of Post"
   ]
  },
  {
   "cell_type": "code",
   "execution_count": 342,
   "metadata": {},
   "outputs": [
    {
     "data": {
      "text/plain": [
       "created_time\n",
       "0        72\n",
       "1        25\n",
       "2        17\n",
       "3        14\n",
       "4        10\n",
       "5        23\n",
       "6        95\n",
       "7       721\n",
       "8      3279\n",
       "9      4573\n",
       "10    11175\n",
       "11    10023\n",
       "12    15404\n",
       "13    10898\n",
       "14    11613\n",
       "15    12007\n",
       "16     8106\n",
       "17     5977\n",
       "18     5488\n",
       "19     9681\n",
       "20     5575\n",
       "21     1052\n",
       "22     1021\n",
       "23       62\n",
       "Name: total_comments, dtype: int64"
      ]
     },
     "execution_count": 342,
     "metadata": {},
     "output_type": "execute_result"
    }
   ],
   "source": [
    "time_comments=brewdog_time.groupby(brewdog_time.created_time.dt.hour)['total_comments'].sum()\n",
    "time_comments.head(24)\n"
   ]
  },
  {
   "cell_type": "code",
   "execution_count": 399,
   "metadata": {},
   "outputs": [
    {
     "data": {
      "image/png": "[encoded data removed]",
      "text/plain": [
       "<matplotlib.figure.Figure at 0x1231b1710>"
      ]
     },
     "metadata": {},
     "output_type": "display_data"
    }
   ],
   "source": [
    "fig_time_comments = brewdog_time.groupby(brewdog_time.created_time.dt.hour)['total_comments'].sum().plot(kind=\"bar\",title=\"Total Comments on All Posts Based on Hour Posted\")"
   ]
  },
  {
   "cell_type": "markdown",
   "metadata": {},
   "source": [
    "## Average Likes and Comments Per Post for Each Hour of the Day"
   ]
  },
  {
   "cell_type": "code",
   "execution_count": 393,
   "metadata": {},
   "outputs": [
    {
     "data": {
      "text/html": [
       "<div>\n",
       "<style>\n",
       "    .dataframe thead tr:only-child th {\n",
       "        text-align: right;\n",
       "    }\n",
       "\n",
       "    .dataframe thead th {\n",
       "        text-align: left;\n",
       "    }\n",
       "\n",
       "    .dataframe tbody tr th {\n",
       "        vertical-align: top;\n",
       "    }\n",
       "</style>\n",
       "<table border=\"1\" class=\"dataframe\">\n",
       "  <thead>\n",
       "    <tr style=\"text-align: right;\">\n",
       "      <th></th>\n",
       "      <th>created_time</th>\n",
       "    </tr>\n",
       "    <tr>\n",
       "      <th>created_time</th>\n",
       "      <th></th>\n",
       "    </tr>\n",
       "  </thead>\n",
       "  <tbody>\n",
       "    <tr>\n",
       "      <th>0</th>\n",
       "      <td>6</td>\n",
       "    </tr>\n",
       "    <tr>\n",
       "      <th>1</th>\n",
       "      <td>5</td>\n",
       "    </tr>\n",
       "    <tr>\n",
       "      <th>2</th>\n",
       "      <td>3</td>\n",
       "    </tr>\n",
       "    <tr>\n",
       "      <th>3</th>\n",
       "      <td>4</td>\n",
       "    </tr>\n",
       "    <tr>\n",
       "      <th>4</th>\n",
       "      <td>3</td>\n",
       "    </tr>\n",
       "  </tbody>\n",
       "</table>\n",
       "</div>"
      ],
      "text/plain": [
       "              created_time\n",
       "created_time              \n",
       "0                        6\n",
       "1                        5\n",
       "2                        3\n",
       "3                        4\n",
       "4                        3"
      ]
     },
     "execution_count": 393,
     "metadata": {},
     "output_type": "execute_result"
    }
   ],
   "source": [
    "hour_of_day = date_df.groupby(brewdog_time.created_time.dt.hour).count()\n",
    "hour_of_day.head()"
   ]
  },
  {
   "cell_type": "code",
   "execution_count": 395,
   "metadata": {},
   "outputs": [
    {
     "data": {
      "text/plain": [
       "<matplotlib.axes._subplots.AxesSubplot at 0x12297b8d0>"
      ]
     },
     "execution_count": 395,
     "metadata": {},
     "output_type": "execute_result"
    },
    {
     "data": {
      "image/png": "[encoded data removed]",
      "text/plain": [
       "<matplotlib.figure.Figure at 0x1225d69e8>"
      ]
     },
     "metadata": {},
     "output_type": "display_data"
    }
   ],
   "source": [
    "fig_hour=date_df.groupby(brewdog_time.created_time.dt.hour).count().plot(kind=\"bar\",title=\"Number of Posts per Hour of the Day\")\n",
    "fig_hour"
   ]
  },
  {
   "cell_type": "code",
   "execution_count": 394,
   "metadata": {},
   "outputs": [
    {
     "data": {
      "text/html": [
       "<div>\n",
       "<style>\n",
       "    .dataframe thead tr:only-child th {\n",
       "        text-align: right;\n",
       "    }\n",
       "\n",
       "    .dataframe thead th {\n",
       "        text-align: left;\n",
       "    }\n",
       "\n",
       "    .dataframe tbody tr th {\n",
       "        vertical-align: top;\n",
       "    }\n",
       "</style>\n",
       "<table border=\"1\" class=\"dataframe\">\n",
       "  <thead>\n",
       "    <tr style=\"text-align: right;\">\n",
       "      <th></th>\n",
       "      <th>total_posts</th>\n",
       "      <th>total_comments</th>\n",
       "    </tr>\n",
       "    <tr>\n",
       "      <th>created_time</th>\n",
       "      <th></th>\n",
       "      <th></th>\n",
       "    </tr>\n",
       "  </thead>\n",
       "  <tbody>\n",
       "    <tr>\n",
       "      <th>0</th>\n",
       "      <td>6</td>\n",
       "      <td>72</td>\n",
       "    </tr>\n",
       "    <tr>\n",
       "      <th>1</th>\n",
       "      <td>5</td>\n",
       "      <td>25</td>\n",
       "    </tr>\n",
       "    <tr>\n",
       "      <th>2</th>\n",
       "      <td>3</td>\n",
       "      <td>17</td>\n",
       "    </tr>\n",
       "    <tr>\n",
       "      <th>3</th>\n",
       "      <td>4</td>\n",
       "      <td>14</td>\n",
       "    </tr>\n",
       "    <tr>\n",
       "      <th>4</th>\n",
       "      <td>3</td>\n",
       "      <td>10</td>\n",
       "    </tr>\n",
       "  </tbody>\n",
       "</table>\n",
       "</div>"
      ],
      "text/plain": [
       "              total_posts  total_comments\n",
       "created_time                             \n",
       "0                       6              72\n",
       "1                       5              25\n",
       "2                       3              17\n",
       "3                       4              14\n",
       "4                       3              10"
      ]
     },
     "execution_count": 394,
     "metadata": {},
     "output_type": "execute_result"
    }
   ],
   "source": [
    "combined_time_com = pd.concat([hour_of_day, time_comments], axis=1)\n",
    "combined_time_com.columns = ['total_posts', 'total_comments']\n",
    "combined_time.head()"
   ]
  },
  {
   "cell_type": "code",
   "execution_count": 378,
   "metadata": {},
   "outputs": [
    {
     "data": {
      "text/html": [
       "<div>\n",
       "<style>\n",
       "    .dataframe thead tr:only-child th {\n",
       "        text-align: right;\n",
       "    }\n",
       "\n",
       "    .dataframe thead th {\n",
       "        text-align: left;\n",
       "    }\n",
       "\n",
       "    .dataframe tbody tr th {\n",
       "        vertical-align: top;\n",
       "    }\n",
       "</style>\n",
       "<table border=\"1\" class=\"dataframe\">\n",
       "  <thead>\n",
       "    <tr style=\"text-align: right;\">\n",
       "      <th></th>\n",
       "      <th>total_posts</th>\n",
       "      <th>total_comments</th>\n",
       "      <th>total_likes</th>\n",
       "    </tr>\n",
       "    <tr>\n",
       "      <th>created_time</th>\n",
       "      <th></th>\n",
       "      <th></th>\n",
       "      <th></th>\n",
       "    </tr>\n",
       "  </thead>\n",
       "  <tbody>\n",
       "    <tr>\n",
       "      <th>0</th>\n",
       "      <td>6</td>\n",
       "      <td>72</td>\n",
       "      <td>915</td>\n",
       "    </tr>\n",
       "    <tr>\n",
       "      <th>1</th>\n",
       "      <td>5</td>\n",
       "      <td>25</td>\n",
       "      <td>403</td>\n",
       "    </tr>\n",
       "    <tr>\n",
       "      <th>2</th>\n",
       "      <td>3</td>\n",
       "      <td>17</td>\n",
       "      <td>266</td>\n",
       "    </tr>\n",
       "    <tr>\n",
       "      <th>3</th>\n",
       "      <td>4</td>\n",
       "      <td>14</td>\n",
       "      <td>127</td>\n",
       "    </tr>\n",
       "    <tr>\n",
       "      <th>4</th>\n",
       "      <td>3</td>\n",
       "      <td>10</td>\n",
       "      <td>90</td>\n",
       "    </tr>\n",
       "    <tr>\n",
       "      <th>5</th>\n",
       "      <td>1</td>\n",
       "      <td>23</td>\n",
       "      <td>65</td>\n",
       "    </tr>\n",
       "    <tr>\n",
       "      <th>6</th>\n",
       "      <td>12</td>\n",
       "      <td>95</td>\n",
       "      <td>306</td>\n",
       "    </tr>\n",
       "    <tr>\n",
       "      <th>7</th>\n",
       "      <td>58</td>\n",
       "      <td>721</td>\n",
       "      <td>2878</td>\n",
       "    </tr>\n",
       "    <tr>\n",
       "      <th>8</th>\n",
       "      <td>177</td>\n",
       "      <td>3279</td>\n",
       "      <td>11325</td>\n",
       "    </tr>\n",
       "    <tr>\n",
       "      <th>9</th>\n",
       "      <td>266</td>\n",
       "      <td>4573</td>\n",
       "      <td>20948</td>\n",
       "    </tr>\n",
       "    <tr>\n",
       "      <th>10</th>\n",
       "      <td>500</td>\n",
       "      <td>11175</td>\n",
       "      <td>58365</td>\n",
       "    </tr>\n",
       "    <tr>\n",
       "      <th>11</th>\n",
       "      <td>645</td>\n",
       "      <td>10023</td>\n",
       "      <td>77219</td>\n",
       "    </tr>\n",
       "    <tr>\n",
       "      <th>12</th>\n",
       "      <td>746</td>\n",
       "      <td>15404</td>\n",
       "      <td>98347</td>\n",
       "    </tr>\n",
       "    <tr>\n",
       "      <th>13</th>\n",
       "      <td>630</td>\n",
       "      <td>10898</td>\n",
       "      <td>83981</td>\n",
       "    </tr>\n",
       "    <tr>\n",
       "      <th>14</th>\n",
       "      <td>677</td>\n",
       "      <td>11613</td>\n",
       "      <td>83430</td>\n",
       "    </tr>\n",
       "    <tr>\n",
       "      <th>15</th>\n",
       "      <td>661</td>\n",
       "      <td>12007</td>\n",
       "      <td>91099</td>\n",
       "    </tr>\n",
       "    <tr>\n",
       "      <th>16</th>\n",
       "      <td>575</td>\n",
       "      <td>8106</td>\n",
       "      <td>71680</td>\n",
       "    </tr>\n",
       "    <tr>\n",
       "      <th>17</th>\n",
       "      <td>430</td>\n",
       "      <td>5977</td>\n",
       "      <td>45169</td>\n",
       "    </tr>\n",
       "    <tr>\n",
       "      <th>18</th>\n",
       "      <td>308</td>\n",
       "      <td>5488</td>\n",
       "      <td>37786</td>\n",
       "    </tr>\n",
       "    <tr>\n",
       "      <th>19</th>\n",
       "      <td>337</td>\n",
       "      <td>9681</td>\n",
       "      <td>35594</td>\n",
       "    </tr>\n",
       "    <tr>\n",
       "      <th>20</th>\n",
       "      <td>230</td>\n",
       "      <td>5575</td>\n",
       "      <td>22032</td>\n",
       "    </tr>\n",
       "    <tr>\n",
       "      <th>21</th>\n",
       "      <td>71</td>\n",
       "      <td>1052</td>\n",
       "      <td>3088</td>\n",
       "    </tr>\n",
       "    <tr>\n",
       "      <th>22</th>\n",
       "      <td>55</td>\n",
       "      <td>1021</td>\n",
       "      <td>4557</td>\n",
       "    </tr>\n",
       "    <tr>\n",
       "      <th>23</th>\n",
       "      <td>9</td>\n",
       "      <td>62</td>\n",
       "      <td>683</td>\n",
       "    </tr>\n",
       "  </tbody>\n",
       "</table>\n",
       "</div>"
      ],
      "text/plain": [
       "              total_posts  total_comments  total_likes\n",
       "created_time                                          \n",
       "0                       6              72          915\n",
       "1                       5              25          403\n",
       "2                       3              17          266\n",
       "3                       4              14          127\n",
       "4                       3              10           90\n",
       "5                       1              23           65\n",
       "6                      12              95          306\n",
       "7                      58             721         2878\n",
       "8                     177            3279        11325\n",
       "9                     266            4573        20948\n",
       "10                    500           11175        58365\n",
       "11                    645           10023        77219\n",
       "12                    746           15404        98347\n",
       "13                    630           10898        83981\n",
       "14                    677           11613        83430\n",
       "15                    661           12007        91099\n",
       "16                    575            8106        71680\n",
       "17                    430            5977        45169\n",
       "18                    308            5488        37786\n",
       "19                    337            9681        35594\n",
       "20                    230            5575        22032\n",
       "21                     71            1052         3088\n",
       "22                     55            1021         4557\n",
       "23                      9              62          683"
      ]
     },
     "execution_count": 378,
     "metadata": {},
     "output_type": "execute_result"
    }
   ],
   "source": [
    "combined_time_com_like = pd.concat([combined_time_com, time_likes], axis=1)\n",
    "combined_time_com_like.head(24)"
   ]
  },
  {
   "cell_type": "code",
   "execution_count": 379,
   "metadata": {},
   "outputs": [
    {
     "data": {
      "text/html": [
       "<div>\n",
       "<style>\n",
       "    .dataframe thead tr:only-child th {\n",
       "        text-align: right;\n",
       "    }\n",
       "\n",
       "    .dataframe thead th {\n",
       "        text-align: left;\n",
       "    }\n",
       "\n",
       "    .dataframe tbody tr th {\n",
       "        vertical-align: top;\n",
       "    }\n",
       "</style>\n",
       "<table border=\"1\" class=\"dataframe\">\n",
       "  <thead>\n",
       "    <tr style=\"text-align: right;\">\n",
       "      <th></th>\n",
       "      <th>total_posts</th>\n",
       "      <th>total_comments</th>\n",
       "      <th>total_likes</th>\n",
       "      <th>average_comments_per_post</th>\n",
       "    </tr>\n",
       "    <tr>\n",
       "      <th>created_time</th>\n",
       "      <th></th>\n",
       "      <th></th>\n",
       "      <th></th>\n",
       "      <th></th>\n",
       "    </tr>\n",
       "  </thead>\n",
       "  <tbody>\n",
       "    <tr>\n",
       "      <th>0</th>\n",
       "      <td>6</td>\n",
       "      <td>72</td>\n",
       "      <td>915</td>\n",
       "      <td>12.000000</td>\n",
       "    </tr>\n",
       "    <tr>\n",
       "      <th>1</th>\n",
       "      <td>5</td>\n",
       "      <td>25</td>\n",
       "      <td>403</td>\n",
       "      <td>5.000000</td>\n",
       "    </tr>\n",
       "    <tr>\n",
       "      <th>2</th>\n",
       "      <td>3</td>\n",
       "      <td>17</td>\n",
       "      <td>266</td>\n",
       "      <td>5.666667</td>\n",
       "    </tr>\n",
       "    <tr>\n",
       "      <th>3</th>\n",
       "      <td>4</td>\n",
       "      <td>14</td>\n",
       "      <td>127</td>\n",
       "      <td>3.500000</td>\n",
       "    </tr>\n",
       "    <tr>\n",
       "      <th>4</th>\n",
       "      <td>3</td>\n",
       "      <td>10</td>\n",
       "      <td>90</td>\n",
       "      <td>3.333333</td>\n",
       "    </tr>\n",
       "  </tbody>\n",
       "</table>\n",
       "</div>"
      ],
      "text/plain": [
       "              total_posts  total_comments  total_likes  \\\n",
       "created_time                                             \n",
       "0                       6              72          915   \n",
       "1                       5              25          403   \n",
       "2                       3              17          266   \n",
       "3                       4              14          127   \n",
       "4                       3              10           90   \n",
       "\n",
       "              average_comments_per_post  \n",
       "created_time                             \n",
       "0                             12.000000  \n",
       "1                              5.000000  \n",
       "2                              5.666667  \n",
       "3                              3.500000  \n",
       "4                              3.333333  "
      ]
     },
     "execution_count": 379,
     "metadata": {},
     "output_type": "execute_result"
    }
   ],
   "source": [
    "combined_time_com_like['average_comments_per_post'] = combined_time_com_like['total_comments']/combined_time_com_like['total_posts']\n",
    "combined_time_com_like.head()"
   ]
  },
  {
   "cell_type": "code",
   "execution_count": 381,
   "metadata": {},
   "outputs": [
    {
     "data": {
      "text/html": [
       "<div>\n",
       "<style>\n",
       "    .dataframe thead tr:only-child th {\n",
       "        text-align: right;\n",
       "    }\n",
       "\n",
       "    .dataframe thead th {\n",
       "        text-align: left;\n",
       "    }\n",
       "\n",
       "    .dataframe tbody tr th {\n",
       "        vertical-align: top;\n",
       "    }\n",
       "</style>\n",
       "<table border=\"1\" class=\"dataframe\">\n",
       "  <thead>\n",
       "    <tr style=\"text-align: right;\">\n",
       "      <th></th>\n",
       "      <th>total_posts</th>\n",
       "      <th>total_comments</th>\n",
       "      <th>total_likes</th>\n",
       "      <th>average_comments_per_post</th>\n",
       "      <th>average_likes_per_post</th>\n",
       "    </tr>\n",
       "    <tr>\n",
       "      <th>created_time</th>\n",
       "      <th></th>\n",
       "      <th></th>\n",
       "      <th></th>\n",
       "      <th></th>\n",
       "      <th></th>\n",
       "    </tr>\n",
       "  </thead>\n",
       "  <tbody>\n",
       "    <tr>\n",
       "      <th>0</th>\n",
       "      <td>6</td>\n",
       "      <td>72</td>\n",
       "      <td>915</td>\n",
       "      <td>12.000000</td>\n",
       "      <td>152.500000</td>\n",
       "    </tr>\n",
       "    <tr>\n",
       "      <th>1</th>\n",
       "      <td>5</td>\n",
       "      <td>25</td>\n",
       "      <td>403</td>\n",
       "      <td>5.000000</td>\n",
       "      <td>80.600000</td>\n",
       "    </tr>\n",
       "    <tr>\n",
       "      <th>2</th>\n",
       "      <td>3</td>\n",
       "      <td>17</td>\n",
       "      <td>266</td>\n",
       "      <td>5.666667</td>\n",
       "      <td>88.666667</td>\n",
       "    </tr>\n",
       "    <tr>\n",
       "      <th>3</th>\n",
       "      <td>4</td>\n",
       "      <td>14</td>\n",
       "      <td>127</td>\n",
       "      <td>3.500000</td>\n",
       "      <td>31.750000</td>\n",
       "    </tr>\n",
       "    <tr>\n",
       "      <th>4</th>\n",
       "      <td>3</td>\n",
       "      <td>10</td>\n",
       "      <td>90</td>\n",
       "      <td>3.333333</td>\n",
       "      <td>30.000000</td>\n",
       "    </tr>\n",
       "    <tr>\n",
       "      <th>5</th>\n",
       "      <td>1</td>\n",
       "      <td>23</td>\n",
       "      <td>65</td>\n",
       "      <td>23.000000</td>\n",
       "      <td>65.000000</td>\n",
       "    </tr>\n",
       "    <tr>\n",
       "      <th>6</th>\n",
       "      <td>12</td>\n",
       "      <td>95</td>\n",
       "      <td>306</td>\n",
       "      <td>7.916667</td>\n",
       "      <td>25.500000</td>\n",
       "    </tr>\n",
       "    <tr>\n",
       "      <th>7</th>\n",
       "      <td>58</td>\n",
       "      <td>721</td>\n",
       "      <td>2878</td>\n",
       "      <td>12.431034</td>\n",
       "      <td>49.620690</td>\n",
       "    </tr>\n",
       "    <tr>\n",
       "      <th>8</th>\n",
       "      <td>177</td>\n",
       "      <td>3279</td>\n",
       "      <td>11325</td>\n",
       "      <td>18.525424</td>\n",
       "      <td>63.983051</td>\n",
       "    </tr>\n",
       "    <tr>\n",
       "      <th>9</th>\n",
       "      <td>266</td>\n",
       "      <td>4573</td>\n",
       "      <td>20948</td>\n",
       "      <td>17.191729</td>\n",
       "      <td>78.751880</td>\n",
       "    </tr>\n",
       "    <tr>\n",
       "      <th>10</th>\n",
       "      <td>500</td>\n",
       "      <td>11175</td>\n",
       "      <td>58365</td>\n",
       "      <td>22.350000</td>\n",
       "      <td>116.730000</td>\n",
       "    </tr>\n",
       "    <tr>\n",
       "      <th>11</th>\n",
       "      <td>645</td>\n",
       "      <td>10023</td>\n",
       "      <td>77219</td>\n",
       "      <td>15.539535</td>\n",
       "      <td>119.719380</td>\n",
       "    </tr>\n",
       "    <tr>\n",
       "      <th>12</th>\n",
       "      <td>746</td>\n",
       "      <td>15404</td>\n",
       "      <td>98347</td>\n",
       "      <td>20.648794</td>\n",
       "      <td>131.832440</td>\n",
       "    </tr>\n",
       "    <tr>\n",
       "      <th>13</th>\n",
       "      <td>630</td>\n",
       "      <td>10898</td>\n",
       "      <td>83981</td>\n",
       "      <td>17.298413</td>\n",
       "      <td>133.303175</td>\n",
       "    </tr>\n",
       "    <tr>\n",
       "      <th>14</th>\n",
       "      <td>677</td>\n",
       "      <td>11613</td>\n",
       "      <td>83430</td>\n",
       "      <td>17.153619</td>\n",
       "      <td>123.234860</td>\n",
       "    </tr>\n",
       "    <tr>\n",
       "      <th>15</th>\n",
       "      <td>661</td>\n",
       "      <td>12007</td>\n",
       "      <td>91099</td>\n",
       "      <td>18.164902</td>\n",
       "      <td>137.819970</td>\n",
       "    </tr>\n",
       "    <tr>\n",
       "      <th>16</th>\n",
       "      <td>575</td>\n",
       "      <td>8106</td>\n",
       "      <td>71680</td>\n",
       "      <td>14.097391</td>\n",
       "      <td>124.660870</td>\n",
       "    </tr>\n",
       "    <tr>\n",
       "      <th>17</th>\n",
       "      <td>430</td>\n",
       "      <td>5977</td>\n",
       "      <td>45169</td>\n",
       "      <td>13.900000</td>\n",
       "      <td>105.044186</td>\n",
       "    </tr>\n",
       "    <tr>\n",
       "      <th>18</th>\n",
       "      <td>308</td>\n",
       "      <td>5488</td>\n",
       "      <td>37786</td>\n",
       "      <td>17.818182</td>\n",
       "      <td>122.681818</td>\n",
       "    </tr>\n",
       "    <tr>\n",
       "      <th>19</th>\n",
       "      <td>337</td>\n",
       "      <td>9681</td>\n",
       "      <td>35594</td>\n",
       "      <td>28.727003</td>\n",
       "      <td>105.620178</td>\n",
       "    </tr>\n",
       "    <tr>\n",
       "      <th>20</th>\n",
       "      <td>230</td>\n",
       "      <td>5575</td>\n",
       "      <td>22032</td>\n",
       "      <td>24.239130</td>\n",
       "      <td>95.791304</td>\n",
       "    </tr>\n",
       "    <tr>\n",
       "      <th>21</th>\n",
       "      <td>71</td>\n",
       "      <td>1052</td>\n",
       "      <td>3088</td>\n",
       "      <td>14.816901</td>\n",
       "      <td>43.492958</td>\n",
       "    </tr>\n",
       "    <tr>\n",
       "      <th>22</th>\n",
       "      <td>55</td>\n",
       "      <td>1021</td>\n",
       "      <td>4557</td>\n",
       "      <td>18.563636</td>\n",
       "      <td>82.854545</td>\n",
       "    </tr>\n",
       "    <tr>\n",
       "      <th>23</th>\n",
       "      <td>9</td>\n",
       "      <td>62</td>\n",
       "      <td>683</td>\n",
       "      <td>6.888889</td>\n",
       "      <td>75.888889</td>\n",
       "    </tr>\n",
       "  </tbody>\n",
       "</table>\n",
       "</div>"
      ],
      "text/plain": [
       "              total_posts  total_comments  total_likes  \\\n",
       "created_time                                             \n",
       "0                       6              72          915   \n",
       "1                       5              25          403   \n",
       "2                       3              17          266   \n",
       "3                       4              14          127   \n",
       "4                       3              10           90   \n",
       "5                       1              23           65   \n",
       "6                      12              95          306   \n",
       "7                      58             721         2878   \n",
       "8                     177            3279        11325   \n",
       "9                     266            4573        20948   \n",
       "10                    500           11175        58365   \n",
       "11                    645           10023        77219   \n",
       "12                    746           15404        98347   \n",
       "13                    630           10898        83981   \n",
       "14                    677           11613        83430   \n",
       "15                    661           12007        91099   \n",
       "16                    575            8106        71680   \n",
       "17                    430            5977        45169   \n",
       "18                    308            5488        37786   \n",
       "19                    337            9681        35594   \n",
       "20                    230            5575        22032   \n",
       "21                     71            1052         3088   \n",
       "22                     55            1021         4557   \n",
       "23                      9              62          683   \n",
       "\n",
       "              average_comments_per_post  average_likes_per_post  \n",
       "created_time                                                     \n",
       "0                             12.000000              152.500000  \n",
       "1                              5.000000               80.600000  \n",
       "2                              5.666667               88.666667  \n",
       "3                              3.500000               31.750000  \n",
       "4                              3.333333               30.000000  \n",
       "5                             23.000000               65.000000  \n",
       "6                              7.916667               25.500000  \n",
       "7                             12.431034               49.620690  \n",
       "8                             18.525424               63.983051  \n",
       "9                             17.191729               78.751880  \n",
       "10                            22.350000              116.730000  \n",
       "11                            15.539535              119.719380  \n",
       "12                            20.648794              131.832440  \n",
       "13                            17.298413              133.303175  \n",
       "14                            17.153619              123.234860  \n",
       "15                            18.164902              137.819970  \n",
       "16                            14.097391              124.660870  \n",
       "17                            13.900000              105.044186  \n",
       "18                            17.818182              122.681818  \n",
       "19                            28.727003              105.620178  \n",
       "20                            24.239130               95.791304  \n",
       "21                            14.816901               43.492958  \n",
       "22                            18.563636               82.854545  \n",
       "23                             6.888889               75.888889  "
      ]
     },
     "execution_count": 381,
     "metadata": {},
     "output_type": "execute_result"
    }
   ],
   "source": [
    "combined_time_com_like['average_likes_per_post'] = combined_time_com_like['total_likes']/combined_time_com_like['total_posts']\n",
    "combined_time_com_like.head(24)"
   ]
  },
  {
   "cell_type": "code",
   "execution_count": 402,
   "metadata": {},
   "outputs": [
    {
     "data": {
      "image/png": "[encoded data removed]",
      "text/plain": [
       "<matplotlib.figure.Figure at 0x120e42908>"
      ]
     },
     "metadata": {},
     "output_type": "display_data"
    }
   ],
   "source": [
    "import matplotlib.pyplot as plt\n",
    "\n",
    "fig = plt.figure(figsize=(15,15))\n",
    "ax1 = fig.add_subplot(3,1,1)\n",
    "ax2 = fig.add_subplot(3,1,2)\n",
    "ax3 = fig.add_subplot(3,1,3)\n",
    "\n",
    "combined_time_com_like['total_posts'].plot(kind='bar', color='black', ax=ax1, width=0.25)\n",
    "combined_time_com_like['average_comments_per_post'].plot(kind='bar', color='red', ax=ax2, width=0.25)\n",
    "combined_time_com_like['average_likes_per_post'].plot(kind='bar', color='blue', ax=ax3, width=0.25)\n",
    "ax1.set_ylabel('total_posts_per_hour')\n",
    "ax2.set_ylabel('average_comments_per_post')\n",
    "ax3.set_ylabel('average_likes_per_post')\n",
    "plt.show()"
   ]
  },
  {
   "cell_type": "code",
   "execution_count": null,
   "metadata": {
    "collapsed": true
   },
   "outputs": [],
   "source": []
  }
 ],
 "metadata": {
  "kernelspec": {
   "display_name": "Python 3",
   "language": "python",
   "name": "python3"
  },
  "language_info": {
   "codemirror_mode": {
    "name": "ipython",
    "version": 3
   },
   "file_extension": ".py",
   "mimetype": "text/x-python",
   "name": "python",
   "nbconvert_exporter": "python",
   "pygments_lexer": "ipython3",
   "version": "3.6.1"
  }
 },
 "nbformat": 4,
 "nbformat_minor": 2
}
